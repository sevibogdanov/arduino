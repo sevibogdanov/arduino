{
 "cells": [
  {
   "cell_type": "code",
   "execution_count": 7,
   "metadata": {},
   "outputs": [
    {
     "name": "stdout",
     "output_type": "stream",
     "text": [
      "MoviePy - Building file C:\\Users\\Admin\\Desktop\\arduino\\water_detector\\water_detector.gif with imageio.\n"
     ]
    },
    {
     "name": "stderr",
     "output_type": "stream",
     "text": [
      "                                                              \r"
     ]
    }
   ],
   "source": [
    "import moviepy.editor as mp\n",
    "input_file = r\"C:\\Users\\Admin\\Desktop\\arduino\\water_detector\\water_detector.MOV\"\n",
    "output_file = r\"C:\\Users\\Admin\\Desktop\\arduino\\water_detector\\water_detector.gif\"\n",
    "editor = mp.VideoFileClip(input_file).resize(0.5).crop(width=400, height=320, x_center=200, y_center=200)\n",
    "editor.write_gif(output_file, fps=8,)"
   ]
  },
  {
   "cell_type": "code",
   "execution_count": 4,
   "metadata": {},
   "outputs": [
    {
     "name": "stdout",
     "output_type": "stream",
     "text": [
      "MoviePy - Building file C:\\Users\\Admin\\Desktop\\arduino\\digits\\digits.gif with imageio.\n"
     ]
    },
    {
     "name": "stderr",
     "output_type": "stream",
     "text": [
      "                                                            \r"
     ]
    }
   ],
   "source": [
    "import moviepy.editor as mp\n",
    "input_file = r\"C:\\Users\\Admin\\Desktop\\arduino\\digits\\digits.MOV\"\n",
    "output_file = r\"C:\\Users\\Admin\\Desktop\\arduino\\digits\\digits.gif\"\n",
    "editor = mp.VideoFileClip(input_file)\n",
    "editor.write_gif(output_file, fps=8,)"
   ]
  },
  {
   "cell_type": "code",
   "execution_count": null,
   "metadata": {},
   "outputs": [],
   "source": []
  }
 ],
 "metadata": {
  "kernelspec": {
   "display_name": "Python 3 (ipykernel)",
   "language": "python",
   "name": "python3"
  },
  "language_info": {
   "codemirror_mode": {
    "name": "ipython",
    "version": 3
   },
   "file_extension": ".py",
   "mimetype": "text/x-python",
   "name": "python",
   "nbconvert_exporter": "python",
   "pygments_lexer": "ipython3",
   "version": "3.10.5"
  }
 },
 "nbformat": 4,
 "nbformat_minor": 2
}
